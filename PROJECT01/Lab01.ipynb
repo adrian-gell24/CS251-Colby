{
 "cells": [
  {
   "cell_type": "code",
   "execution_count": 1,
   "id": "f83a9d55",
   "metadata": {},
   "outputs": [],
   "source": [
    "# Automatically reload external modules\n",
    "%load_ext autoreload\n",
    "%autoreload 2"
   ]
  },
  {
   "cell_type": "code",
   "execution_count": 2,
   "id": "d13db0d7",
   "metadata": {},
   "outputs": [
    {
     "name": "stdout",
     "output_type": "stream",
     "text": [
      "This data class works\n"
     ]
    }
   ],
   "source": [
    "# import data\n",
    "import data\n",
    "# make a data object\n",
    "dobj = data.Data()"
   ]
  },
  {
   "cell_type": "code",
   "execution_count": null,
   "id": "6ff1c37d",
   "metadata": {},
   "outputs": [],
   "source": []
  }
 ],
 "metadata": {
  "kernelspec": {
   "display_name": "Python 3 (ipykernel)",
   "language": "python",
   "name": "python3"
  },
  "language_info": {
   "codemirror_mode": {
    "name": "ipython",
    "version": 3
   },
   "file_extension": ".py",
   "mimetype": "text/x-python",
   "name": "python",
   "nbconvert_exporter": "python",
   "pygments_lexer": "ipython3",
   "version": "3.10.9"
  }
 },
 "nbformat": 4,
 "nbformat_minor": 5
}
