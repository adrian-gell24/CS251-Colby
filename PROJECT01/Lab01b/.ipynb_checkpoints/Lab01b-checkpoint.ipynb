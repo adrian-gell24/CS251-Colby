{
 "cells": [
  {
   "cell_type": "markdown",
   "metadata": {},
   "source": [
    "# Lab 1: Intro to Jupyter Notebook, NumPy and MatPlotLib\n",
    "\n",
    "## Task 0: Intro to Jupyter Notebook\n",
    "\n",
    "### Running Jupyter Notebook\n",
    "\n",
    "2. Open terminal\n",
    "3. run `jupyter notebook`\n",
    "4. Browser opens with \"Files\" tab selected.\n",
    "5. Find Lab1 through the Jupyter Notebook navigating through the directory system.\n",
    "\n",
    "<img src=\"images/new_notebook.png\" alt=\"new notebook\" width=\"200\" align=\"right\"/>\n",
    "\n",
    "### Jupyter Notebook Basics\n",
    "\n",
    "1. Create your first notebook.\n",
    "  1. Navigate to the folder Lab1.\n",
    "  2. In the upper left corner, click \"New\" and from the dropdown \"Python 3\" \n",
    "2. Click on Untitled and rename your notebook Lab0\n",
    "3. In your first Cell type `##Hello World` and press Run (`Shift+Enter`).\n",
    "3. Change your first cell type to markdown and press Run (`Shift+Enter`).\n",
    "  1. [Markdown quick reference](https://github.com/adam-p/markdown-here/wiki/Markdown-Cheatsheet)\n",
    "5. Create a new cell and type `print(\"Hello World\")` into it and press Run (`Shift+Enter`).\n",
    "6. Include \"Lab 0\" in your submission.\n",
    "\n",
    "<img src=\"images/bar.png\" alt=\"heading\"/>\n",
    "\n",
    "## Task 1: Intro to NumPy\n",
    "\n",
    "For Tasks 1 and 2 please complete them by editing a copy of this notebook.\n",
    "\n",
    "### 1a) Create a NumPy Array\n",
    "\n",
    "1. Import 'test.csv' into a ndarray using [NumPy genfromtxt](https://numpy.org/devdocs/reference/generated/numpy.genfromtxt.html), [More info](https://numpy.org/devdocs/user/basics.io.genfromtxt.html)\n",
    "2. Print data [printing arrays](https://numpy.org/doc/stable/user/quickstart.html#printing-arrays)"
   ]
  },
  {
   "cell_type": "code",
   "execution_count": 2,
   "metadata": {
    "scrolled": false
   },
   "outputs": [],
   "source": [
    "import numpy as np\n",
    "\n"
   ]
  },
  {
   "cell_type": "markdown",
   "metadata": {},
   "source": [
    "### 1b) Explore NumPy array\n",
    "\n",
    "#### Using the below links ↓ and NumPy documentation to complete the following tasks:\n",
    "[NumPy ndarray](https://numpy.org/devdocs/reference/arrays.ndarray.html)    \n",
    "[Array indexing](https://numpy.org/devdocs/reference/arrays.indexing.html)  \n",
    "\n",
    "- Print the shape of the array from test.csv.\n",
    "- Print just column 2 of the array from test.csv.\n",
    "- Print just row 5 of the array from test.csv.\n",
    "- Use a single ndarray method find the min of each column of the array from test.csv and print it\n",
    "- Use a single ndarray method to find the max of each row of the array from test.csv and print it\n",
    "- Use a single ndarray method to find the mean of each column of the array from test.csv and print it\n",
    "- Use a single ndarray method to find the sum of each row of the array from test.csv and print it\n",
    "- What is the shape of array2?\n",
    "- In one line use a ndarray method to convert array2 to a two dimensional array."
   ]
  },
  {
   "cell_type": "code",
   "execution_count": 6,
   "metadata": {},
   "outputs": [],
   "source": [
    "#array2 given\n",
    "array2 = np.array([[[0], [2], [4]],[[1], [3], [5]]])"
   ]
  },
  {
   "cell_type": "markdown",
   "metadata": {},
   "source": [
    "## Task 2: MatPlotLib Basics\n",
    "\n",
    "### 2a) Plot the data in a single plot\n",
    "\n",
    "Using the [MatPlotLib](https://matplotlib.org/) documentation, visualize the dataset with Matplotlib. All charts should include a title, axis labels and a legend when applicable.\n",
    "\n",
    "1. Import 'lab1.csv' into a ndarray using genfromtxt. \n",
    "2. Set figure size to 12x8. [Figure reference](https://matplotlib.org/3.1.0/api/_as_gen/matplotlib.pyplot.figure.html) [rcParams](https://matplotlib.org/3.1.0/tutorials/introductory/customizing.html#matplotlib-rcparams)\n",
    "2. Create a cartesian line graph of column 2 (on the X axis) vs column 1 (Y axis) using a red dashed line. [matplotlib.pyplot introduction](https://matplotlib.org/tutorials/introductory/pyplot.html)\n",
    "    1. Include a title and axis labels."
   ]
  },
  {
   "cell_type": "code",
   "execution_count": 3,
   "metadata": {
    "scrolled": false
   },
   "outputs": [],
   "source": [
    "import matplotlib.pyplot as plt\n",
    "import numpy as np\n"
   ]
  },
  {
   "cell_type": "markdown",
   "metadata": {},
   "source": [
    "### 2b) Plot the data in multiple subplots\n",
    "\n",
    "Create 6 graphs in 2 columns and 3 rows using [subplots](https://matplotlib.org/api/_as_gen/matplotlib.pyplot.subplot.html). \n",
    "1. Row 1 is two subplots (a scatterplot and a line graph) of column 1 graphed on the x-axis VS column 0 graphed on the y-axis\n",
    "2. Row 2 is two subplots (a scatterplot and a line graph) of column 2 (x-axis) VS column 1 (y-axis)\n",
    "3. Row 3 is two subplots (a scatterplot and a line graph) of column 2 (x-axis) VS column 0 (y-axis)\n",
    "4. Include a title and axis labels for each subplot.\n",
    "5. To insure there is enough space between subplots use [subplots_adjust](https://matplotlib.org/api/_as_gen/matplotlib.pyplot.subplots_adjust.html)"
   ]
  },
  {
   "cell_type": "markdown",
   "metadata": {},
   "source": []
  },
  {
   "cell_type": "code",
   "execution_count": null,
   "metadata": {},
   "outputs": [],
   "source": []
  },
  {
   "cell_type": "markdown",
   "metadata": {},
   "source": [
    "\n",
    "### 2c) Analysis Question\n",
    "Which pairs of columns are easier to read as scatter plots and which are easier to read as line graphs?  Why?\n",
    "\n",
    "## 3) Submit the Lab on classroom\n",
    "\n",
    "On classroom, upload and submit Lab01.ipynb when you have completed the Lab. The deadline to submit is Tuesday night (just over 24 h after the lab is assigned)."
   ]
  },
  {
   "cell_type": "code",
   "execution_count": null,
   "metadata": {},
   "outputs": [],
   "source": []
  }
 ],
 "metadata": {
  "kernelspec": {
   "display_name": "Python 3 (ipykernel)",
   "language": "python",
   "name": "python3"
  },
  "language_info": {
   "codemirror_mode": {
    "name": "ipython",
    "version": 3
   },
   "file_extension": ".py",
   "mimetype": "text/x-python",
   "name": "python",
   "nbconvert_exporter": "python",
   "pygments_lexer": "ipython3",
   "version": "3.10.9"
  },
  "vscode": {
   "interpreter": {
    "hash": "1a1af0ee75eeea9e2e1ee996c87e7a2b11a0bebd85af04bb136d915cefc0abce"
   }
  }
 },
 "nbformat": 4,
 "nbformat_minor": 4
}
